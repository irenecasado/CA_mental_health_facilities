{
 "cells": [
  {
   "cell_type": "markdown",
   "id": "347ef6b6-13fa-4988-b794-2582f254b37b",
   "metadata": {},
   "source": [
    "# Preparing the Mental Health Care Facilities Data\n",
    "\n",
    "#### By Irene Casado Sanchez\n",
    "\n",
    "The purpose of this notebook is to prepare the four datasets that we are going to use in our further analysis.\n",
    "\n",
    "Mental Health Care Datasets:\n",
    "   * **Licensed and Certified Healthcare Facility Listing** – Source: https://data.chhs.ca.gov/dataset/healthcare-facility-locations\n",
    "   * **Licensed Mental Health Rehabilitation Centers (MHRC) and Psychiatric Health Facilities (PHF)** – Source: https://data.chhs.ca.gov/dataset/licensed-mental-health-rehabilitation-centers-mhrc-and-psychiatric-health-facilities-phf\n",
    "   * **Licensed Narcotic Treatment Programs** – Source: https://data.chhs.ca.gov/dataset/licensed-narcotic-treatment-programs\n",
    "   * **SUD Recovery Treatment Facilities** – Source: https://data.chhs.ca.gov/dataset/sud-recovery-treatment-facilities"
   ]
  },
  {
   "cell_type": "code",
   "execution_count": 3,
   "id": "91f432c3-f238-400a-a46b-cb2223e89eb8",
   "metadata": {},
   "outputs": [],
   "source": [
    "import pandas as pd\n",
    "import numpy as np\n",
    "import datetime\n",
    "import altair as alt\n",
    "import os"
   ]
  },
  {
   "cell_type": "markdown",
   "id": "cafb542e-a0d3-4fd2-807e-4ae6e57e3c8b",
   "metadata": {},
   "source": [
    "Let's read the data:"
   ]
  },
  {
   "cell_type": "code",
   "execution_count": 4,
   "id": "ba4fce8a-0456-479e-84c6-5a678851f08f",
   "metadata": {},
   "outputs": [],
   "source": [
    "DATA_DIR = os.environ['DATA_DIR']"
   ]
  },
  {
   "cell_type": "code",
   "execution_count": 5,
   "id": "a7e32020-cf43-44fe-baf9-d96a7a48f410",
   "metadata": {},
   "outputs": [],
   "source": [
    "narcotics = pd.read_csv(DATA_DIR + \"/raw/edited_clean_narcotics_facilities.csv\") "
   ]
  },
  {
   "cell_type": "code",
   "execution_count": 6,
   "id": "52a50bb3-c968-402e-9b7d-d414b1540929",
   "metadata": {},
   "outputs": [],
   "source": [
    "mental_health = pd.read_csv(DATA_DIR + \"/raw/edited_from_full_to_mental_health_facilities.csv\") "
   ]
  },
  {
   "cell_type": "code",
   "execution_count": 7,
   "id": "cc190da3-8119-40b8-ae76-5539a560d7b6",
   "metadata": {},
   "outputs": [],
   "source": [
    "psych = pd.read_csv(DATA_DIR + \"/raw/edited_mental_health_psych_cleaned_geo.csv\")"
   ]
  },
  {
   "cell_type": "code",
   "execution_count": 8,
   "id": "e8fd21c6-c452-429b-8083-64a3a2fc1f3c",
   "metadata": {},
   "outputs": [],
   "source": [
    "substance_abuse = pd.read_csv(DATA_DIR + \"/raw/edited_substance_use_cleaned.csv\") "
   ]
  },
  {
   "cell_type": "markdown",
   "id": "72d8e710-8343-4e4a-92d8-a49798d4cf7f",
   "metadata": {},
   "source": [
    "Let's put the data together:"
   ]
  },
  {
   "cell_type": "code",
   "execution_count": 9,
   "id": "7aee756a-37bc-4155-a306-c6bd865934fb",
   "metadata": {},
   "outputs": [],
   "source": [
    "frames = civilian_officer_frames = [narcotics, mental_health, substance_abuse, psych]"
   ]
  },
  {
   "cell_type": "code",
   "execution_count": 10,
   "id": "bb748387-1187-4074-9441-7e8f47c06721",
   "metadata": {},
   "outputs": [],
   "source": [
    "all_frames = pd.concat(frames) # Concatenating the dataframes"
   ]
  },
  {
   "cell_type": "code",
   "execution_count": 11,
   "id": "019a90c4-d5ec-480b-b498-b41e8b5cc44b",
   "metadata": {},
   "outputs": [
    {
     "data": {
      "text/html": [
       "<div>\n",
       "<style scoped>\n",
       "    .dataframe tbody tr th:only-of-type {\n",
       "        vertical-align: middle;\n",
       "    }\n",
       "\n",
       "    .dataframe tbody tr th {\n",
       "        vertical-align: top;\n",
       "    }\n",
       "\n",
       "    .dataframe thead th {\n",
       "        text-align: right;\n",
       "    }\n",
       "</style>\n",
       "<table border=\"1\" class=\"dataframe\">\n",
       "  <thead>\n",
       "    <tr style=\"text-align: right;\">\n",
       "      <th></th>\n",
       "      <th>facility_name</th>\n",
       "      <th>facility_type</th>\n",
       "      <th>address</th>\n",
       "      <th>city</th>\n",
       "      <th>county</th>\n",
       "      <th>state</th>\n",
       "      <th>zip</th>\n",
       "      <th>capacity</th>\n",
       "      <th>latitude</th>\n",
       "      <th>longitude</th>\n",
       "      <th>phone_number</th>\n",
       "      <th>other_details</th>\n",
       "    </tr>\n",
       "  </thead>\n",
       "  <tbody>\n",
       "    <tr>\n",
       "      <th>0</th>\n",
       "      <td>California Forensic Medical Group, Inc</td>\n",
       "      <td>narcotics</td>\n",
       "      <td>5325 Broder Boulevard</td>\n",
       "      <td>Dublin</td>\n",
       "      <td>Alameda County</td>\n",
       "      <td>CA</td>\n",
       "      <td>94568</td>\n",
       "      <td>120</td>\n",
       "      <td>37.715926</td>\n",
       "      <td>-121.884151</td>\n",
       "      <td>(925) 551-6700</td>\n",
       "      <td>NaN</td>\n",
       "    </tr>\n",
       "    <tr>\n",
       "      <th>1</th>\n",
       "      <td>Humanistic Alternatives to Addiction Research ...</td>\n",
       "      <td>narcotics</td>\n",
       "      <td>20094 Mission Boulevard</td>\n",
       "      <td>Hayward</td>\n",
       "      <td>Alameda County</td>\n",
       "      <td>CA</td>\n",
       "      <td>94541</td>\n",
       "      <td>400</td>\n",
       "      <td>37.687185</td>\n",
       "      <td>-122.102244</td>\n",
       "      <td>(510) 727-9755</td>\n",
       "      <td>NaN</td>\n",
       "    </tr>\n",
       "    <tr>\n",
       "      <th>2</th>\n",
       "      <td>Addiction Research and Treatment, Inc.</td>\n",
       "      <td>narcotics</td>\n",
       "      <td>1124 International Boulevard</td>\n",
       "      <td>Oakland</td>\n",
       "      <td>Alameda County</td>\n",
       "      <td>CA</td>\n",
       "      <td>94606</td>\n",
       "      <td>650</td>\n",
       "      <td>37.791022</td>\n",
       "      <td>-122.248455</td>\n",
       "      <td>(510) 533-0800</td>\n",
       "      <td>NaN</td>\n",
       "    </tr>\n",
       "    <tr>\n",
       "      <th>3</th>\n",
       "      <td>BAART Behavioral Health Services, Inc.</td>\n",
       "      <td>narcotics</td>\n",
       "      <td>1124 International Boulevard</td>\n",
       "      <td>Oakland</td>\n",
       "      <td>Alameda County</td>\n",
       "      <td>CA</td>\n",
       "      <td>94606</td>\n",
       "      <td>50</td>\n",
       "      <td>37.791022</td>\n",
       "      <td>-122.248455</td>\n",
       "      <td>(510) 533-0800</td>\n",
       "      <td>NaN</td>\n",
       "    </tr>\n",
       "    <tr>\n",
       "      <th>4</th>\n",
       "      <td>Successful Alternatives For Addiction &amp; Counse...</td>\n",
       "      <td>narcotics</td>\n",
       "      <td>795 Fletcher Lane</td>\n",
       "      <td>Hayward</td>\n",
       "      <td>Alameda County</td>\n",
       "      <td>CA</td>\n",
       "      <td>94544</td>\n",
       "      <td>365</td>\n",
       "      <td>37.665521</td>\n",
       "      <td>-122.080495</td>\n",
       "      <td>(510) 247-8300</td>\n",
       "      <td>NaN</td>\n",
       "    </tr>\n",
       "  </tbody>\n",
       "</table>\n",
       "</div>"
      ],
      "text/plain": [
       "                                       facility_name facility_type  \\\n",
       "0            California Forensic Medical Group, Inc      narcotics   \n",
       "1  Humanistic Alternatives to Addiction Research ...     narcotics   \n",
       "2             Addiction Research and Treatment, Inc.     narcotics   \n",
       "3             BAART Behavioral Health Services, Inc.     narcotics   \n",
       "4  Successful Alternatives For Addiction & Counse...     narcotics   \n",
       "\n",
       "                        address     city          county state    zip  \\\n",
       "0         5325 Broder Boulevard   Dublin  Alameda County    CA  94568   \n",
       "1       20094 Mission Boulevard  Hayward  Alameda County    CA  94541   \n",
       "2  1124 International Boulevard  Oakland  Alameda County    CA  94606   \n",
       "3  1124 International Boulevard  Oakland  Alameda County    CA  94606   \n",
       "4             795 Fletcher Lane  Hayward  Alameda County    CA  94544   \n",
       "\n",
       "   capacity   latitude   longitude    phone_number other_details  \n",
       "0       120  37.715926 -121.884151  (925) 551-6700           NaN  \n",
       "1       400  37.687185 -122.102244  (510) 727-9755           NaN  \n",
       "2       650  37.791022 -122.248455  (510) 533-0800           NaN  \n",
       "3        50  37.791022 -122.248455  (510) 533-0800           NaN  \n",
       "4       365  37.665521 -122.080495  (510) 247-8300           NaN  "
      ]
     },
     "execution_count": 11,
     "metadata": {},
     "output_type": "execute_result"
    }
   ],
   "source": [
    "all_frames.head(5) # Checking the data"
   ]
  },
  {
   "cell_type": "code",
   "execution_count": 13,
   "id": "6df4c739-2023-4a92-a463-a606aeac3187",
   "metadata": {},
   "outputs": [
    {
     "name": "stdout",
     "output_type": "stream",
     "text": [
      "<class 'pandas.core.frame.DataFrame'>\n",
      "Int64Index: 2132 entries, 0 to 63\n",
      "Data columns (total 12 columns):\n",
      " #   Column         Non-Null Count  Dtype  \n",
      "---  ------         --------------  -----  \n",
      " 0   facility_name  2132 non-null   object \n",
      " 1   facility_type  2132 non-null   object \n",
      " 2   address        2132 non-null   object \n",
      " 3   city           2132 non-null   object \n",
      " 4   county         2132 non-null   object \n",
      " 5   state          2132 non-null   object \n",
      " 6   zip            2132 non-null   object \n",
      " 7   capacity       2132 non-null   int64  \n",
      " 8   latitude       2132 non-null   float64\n",
      " 9   longitude      2132 non-null   float64\n",
      " 10  phone_number   2122 non-null   object \n",
      " 11  other_details  1811 non-null   object \n",
      "dtypes: float64(2), int64(1), object(9)\n",
      "memory usage: 216.5+ KB\n"
     ]
    }
   ],
   "source": [
    "# Here, we are going to standarize the rows in upper case\n",
    "\n",
    "all_frames['facility_type'] = all_frames['facility_type'].str.upper()\n",
    "all_frames['county'] = all_frames['county'].str.upper()\n",
    "all_frames.head(3)\n",
    "all_frames.info()"
   ]
  },
  {
   "cell_type": "code",
   "execution_count": 15,
   "id": "7e634251-aabf-419b-8b7e-3f99cb337597",
   "metadata": {},
   "outputs": [
    {
     "data": {
      "text/html": [
       "<div>\n",
       "<style scoped>\n",
       "    .dataframe tbody tr th:only-of-type {\n",
       "        vertical-align: middle;\n",
       "    }\n",
       "\n",
       "    .dataframe tbody tr th {\n",
       "        vertical-align: top;\n",
       "    }\n",
       "\n",
       "    .dataframe thead th {\n",
       "        text-align: right;\n",
       "    }\n",
       "</style>\n",
       "<table border=\"1\" class=\"dataframe\">\n",
       "  <thead>\n",
       "    <tr style=\"text-align: right;\">\n",
       "      <th></th>\n",
       "      <th>facility_name</th>\n",
       "      <th>facility_type</th>\n",
       "      <th>address</th>\n",
       "      <th>city</th>\n",
       "      <th>county</th>\n",
       "      <th>state</th>\n",
       "      <th>zip</th>\n",
       "      <th>capacity</th>\n",
       "      <th>latitude</th>\n",
       "      <th>longitude</th>\n",
       "      <th>phone_number</th>\n",
       "      <th>other_details</th>\n",
       "      <th>full_address</th>\n",
       "    </tr>\n",
       "  </thead>\n",
       "  <tbody>\n",
       "    <tr>\n",
       "      <th>0</th>\n",
       "      <td>California Forensic Medical Group, Inc</td>\n",
       "      <td>NARCOTICS</td>\n",
       "      <td>5325 Broder Boulevard</td>\n",
       "      <td>Dublin</td>\n",
       "      <td>ALAMEDA COUNTY</td>\n",
       "      <td>CA</td>\n",
       "      <td>94568</td>\n",
       "      <td>120</td>\n",
       "      <td>37.715926</td>\n",
       "      <td>-121.884151</td>\n",
       "      <td>(925) 551-6700</td>\n",
       "      <td>NaN</td>\n",
       "      <td>5325 Broder Boulevard, Dublin, ALAMEDA COUNTY,...</td>\n",
       "    </tr>\n",
       "    <tr>\n",
       "      <th>1</th>\n",
       "      <td>Humanistic Alternatives to Addiction Research ...</td>\n",
       "      <td>NARCOTICS</td>\n",
       "      <td>20094 Mission Boulevard</td>\n",
       "      <td>Hayward</td>\n",
       "      <td>ALAMEDA COUNTY</td>\n",
       "      <td>CA</td>\n",
       "      <td>94541</td>\n",
       "      <td>400</td>\n",
       "      <td>37.687185</td>\n",
       "      <td>-122.102244</td>\n",
       "      <td>(510) 727-9755</td>\n",
       "      <td>NaN</td>\n",
       "      <td>20094 Mission Boulevard, Hayward, ALAMEDA COUN...</td>\n",
       "    </tr>\n",
       "    <tr>\n",
       "      <th>2</th>\n",
       "      <td>Addiction Research and Treatment, Inc.</td>\n",
       "      <td>NARCOTICS</td>\n",
       "      <td>1124 International Boulevard</td>\n",
       "      <td>Oakland</td>\n",
       "      <td>ALAMEDA COUNTY</td>\n",
       "      <td>CA</td>\n",
       "      <td>94606</td>\n",
       "      <td>650</td>\n",
       "      <td>37.791022</td>\n",
       "      <td>-122.248455</td>\n",
       "      <td>(510) 533-0800</td>\n",
       "      <td>NaN</td>\n",
       "      <td>1124 International Boulevard, Oakland, ALAMEDA...</td>\n",
       "    </tr>\n",
       "  </tbody>\n",
       "</table>\n",
       "</div>"
      ],
      "text/plain": [
       "                                       facility_name facility_type  \\\n",
       "0            California Forensic Medical Group, Inc      NARCOTICS   \n",
       "1  Humanistic Alternatives to Addiction Research ...     NARCOTICS   \n",
       "2             Addiction Research and Treatment, Inc.     NARCOTICS   \n",
       "\n",
       "                        address     city          county state    zip  \\\n",
       "0         5325 Broder Boulevard   Dublin  ALAMEDA COUNTY    CA  94568   \n",
       "1       20094 Mission Boulevard  Hayward  ALAMEDA COUNTY    CA  94541   \n",
       "2  1124 International Boulevard  Oakland  ALAMEDA COUNTY    CA  94606   \n",
       "\n",
       "   capacity   latitude   longitude    phone_number other_details  \\\n",
       "0       120  37.715926 -121.884151  (925) 551-6700           NaN   \n",
       "1       400  37.687185 -122.102244  (510) 727-9755           NaN   \n",
       "2       650  37.791022 -122.248455  (510) 533-0800           NaN   \n",
       "\n",
       "                                        full_address  \n",
       "0  5325 Broder Boulevard, Dublin, ALAMEDA COUNTY,...  \n",
       "1  20094 Mission Boulevard, Hayward, ALAMEDA COUN...  \n",
       "2  1124 International Boulevard, Oakland, ALAMEDA...  "
      ]
     },
     "execution_count": 15,
     "metadata": {},
     "output_type": "execute_result"
    }
   ],
   "source": [
    "# Here, we create a new column with the full address of each facility\n",
    "\n",
    "all_frames[\"full_address\"] = all_frames[\"address\"] + ',' + ' ' + all_frames[\"city\"] + ',' + ' ' + all_frames[\"county\"] + ',' + ' ' + all_frames[\"state\"] + ',' + ' ' + all_frames[\"zip\"].astype(str)\n",
    "all_frames.head(3) # Checking the data"
   ]
  },
  {
   "cell_type": "markdown",
   "id": "f32c4556-f814-4273-9789-3615c48a3311",
   "metadata": {},
   "source": [
    "Our dataset is ready for the next steps, let's create a .csv"
   ]
  },
  {
   "cell_type": "code",
   "execution_count": 16,
   "id": "8af94ea9-1092-410b-a19b-881191440994",
   "metadata": {},
   "outputs": [],
   "source": [
    "all_frames.to_csv(r'all_facilities.csv') # Create a csv with all the dataframes"
   ]
  }
 ],
 "metadata": {
  "kernelspec": {
   "display_name": "Python 3 (ipykernel)",
   "language": "python",
   "name": "python3"
  },
  "language_info": {
   "codemirror_mode": {
    "name": "ipython",
    "version": 3
   },
   "file_extension": ".py",
   "mimetype": "text/x-python",
   "name": "python",
   "nbconvert_exporter": "python",
   "pygments_lexer": "ipython3",
   "version": "3.10.1"
  }
 },
 "nbformat": 4,
 "nbformat_minor": 5
}
