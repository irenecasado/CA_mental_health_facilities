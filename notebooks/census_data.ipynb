{
 "cells": [
  {
   "cell_type": "markdown",
   "id": "767508ef-00cf-4aa3-8fc5-d77fdaa66210",
   "metadata": {},
   "source": [
    "## Acquiring census information \n",
    "\n",
    "#### By Irene Casado Sanchez\n",
    "\n",
    "The purpose of this notebook is to obtain the population reported by the census in each county in California. "
   ]
  },
  {
   "cell_type": "code",
   "execution_count": 2,
   "id": "067593df-7589-4706-9dd4-acae14a2b3c1",
   "metadata": {},
   "outputs": [],
   "source": [
    "import requests\n",
    "import os\n",
    "import pandas as pd"
   ]
  },
  {
   "cell_type": "code",
   "execution_count": 5,
   "id": "b41ebc2a-06c3-4061-9853-99e21db7f6ce",
   "metadata": {},
   "outputs": [],
   "source": [
    "def pop_2020_ca(year):\n",
    "    dsource = 'dec'\n",
    "    dname = 'pl'\n",
    "    base_url = f'https://api.census.gov/data/{year}/{dsource}/{dname}'\n",
    "    chart = 'P1_001N'\n",
    "    state = '06'\n",
    "    api_key = os.environ[\"CENSUS_API_KEY\"]\n",
    "    data_url = f'{base_url}?get={chart}&for=county:*&in=state:{state}&key={api_key}'\n",
    "    response=requests.get(data_url)\n",
    "    json=response.json()\n",
    "    return json"
   ]
  },
  {
   "cell_type": "code",
   "execution_count": 6,
   "id": "402835a0-033f-47d8-bec9-21bba2d6702a",
   "metadata": {},
   "outputs": [],
   "source": [
    "ca_population = pop_2020_ca(2020)"
   ]
  },
  {
   "cell_type": "code",
   "execution_count": null,
   "id": "488b7502-c343-4dca-adae-717a2a8e0f20",
   "metadata": {},
   "outputs": [],
   "source": [
    "ca_population_table = pd.DataFrame(ca_population[1:], columns=ca_population[0])\n",
    "ca_population_table"
   ]
  },
  {
   "cell_type": "code",
   "execution_count": null,
   "id": "61e94a9a-f17d-497d-be57-93060fe0b303",
   "metadata": {},
   "outputs": [],
   "source": [
    "ca_population_table.to_csv('ca_population.csv') # Create a .csv with the required data"
   ]
  }
 ],
 "metadata": {
  "kernelspec": {
   "display_name": "Python 3 (ipykernel)",
   "language": "python",
   "name": "python3"
  },
  "language_info": {
   "codemirror_mode": {
    "name": "ipython",
    "version": 3
   },
   "file_extension": ".py",
   "mimetype": "text/x-python",
   "name": "python",
   "nbconvert_exporter": "python",
   "pygments_lexer": "ipython3",
   "version": "3.10.1"
  }
 },
 "nbformat": 4,
 "nbformat_minor": 5
}
